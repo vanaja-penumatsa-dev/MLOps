{
  "nbformat": 4,
  "nbformat_minor": 0,
  "metadata": {
    "colab": {
      "provenance": []
    },
    "kernelspec": {
      "name": "python3",
      "display_name": "Python 3"
    },
    "language_info": {
      "name": "python"
    }
  },
  "cells": [
    {
      "cell_type": "markdown",
      "source": [
        "# performance-testing-ml-serving-apis-with-locust\n",
        "## https://www.analyticsvidhya.com/blog/2021/06/performance-testing-ml-serving-apis-with-locust/\n",
        "\n",
        "## Contents:\n",
        "  - Build a simple API with FastAPI\n",
        "  - Build a classification model in python\n",
        "  - Wrap the model with FastAPI\n",
        "  - Test the API with Postman client\n",
        "  - Load test with Locust"
      ],
      "metadata": {
        "id": "arPW1GbaFY1N"
      }
    },
    {
      "cell_type": "code",
      "source": [
        "#!pip install fastapi\n",
        "!pip install uvicorn"
      ],
      "metadata": {
        "colab": {
          "base_uri": "https://localhost:8080/"
        },
        "id": "6hk79zgGGY8i",
        "outputId": "42bcc7c7-c3f6-489b-c086-72a5e7fa3371"
      },
      "execution_count": 5,
      "outputs": [
        {
          "output_type": "stream",
          "name": "stdout",
          "text": [
            "Looking in indexes: https://pypi.org/simple, https://us-python.pkg.dev/colab-wheels/public/simple/\n",
            "Collecting uvicorn\n",
            "  Downloading uvicorn-0.22.0-py3-none-any.whl (58 kB)\n",
            "\u001b[2K     \u001b[90m━━━━━━━━━━━━━━━━━━━━━━━━━━━━━━━━━━━━━━━━\u001b[0m \u001b[32m58.3/58.3 kB\u001b[0m \u001b[31m7.3 MB/s\u001b[0m eta \u001b[36m0:00:00\u001b[0m\n",
            "\u001b[?25hRequirement already satisfied: click>=7.0 in /usr/local/lib/python3.10/dist-packages (from uvicorn) (8.1.3)\n",
            "Collecting h11>=0.8\n",
            "  Downloading h11-0.14.0-py3-none-any.whl (58 kB)\n",
            "\u001b[2K     \u001b[90m━━━━━━━━━━━━━━━━━━━━━━━━━━━━━━━━━━━━━━━━\u001b[0m \u001b[32m58.3/58.3 kB\u001b[0m \u001b[31m8.8 MB/s\u001b[0m eta \u001b[36m0:00:00\u001b[0m\n",
            "\u001b[?25hInstalling collected packages: h11, uvicorn\n",
            "Successfully installed h11-0.14.0 uvicorn-0.22.0\n"
          ]
        }
      ]
    },
    {
      "cell_type": "markdown",
      "source": [
        "# how-to-run-fastapi-uvicorn-in-google-colab\n",
        "## https://stackoverflow.com/questions/63833593/how-to-run-fastapi-uvicorn-in-google-colab"
      ],
      "metadata": {
        "id": "lLg5tNGwIDDF"
      }
    },
    {
      "cell_type": "code",
      "source": [
        "!pip install nest-asyncio pyngrok"
      ],
      "metadata": {
        "id": "l5trwgJtIKGU",
        "outputId": "a523da18-044f-4e97-9d98-53614b61007c",
        "colab": {
          "base_uri": "https://localhost:8080/"
        }
      },
      "execution_count": 9,
      "outputs": [
        {
          "output_type": "stream",
          "name": "stdout",
          "text": [
            "Looking in indexes: https://pypi.org/simple, https://us-python.pkg.dev/colab-wheels/public/simple/\n",
            "Requirement already satisfied: nest-asyncio in /usr/local/lib/python3.10/dist-packages (1.5.6)\n",
            "Collecting pyngrok\n",
            "  Downloading pyngrok-6.0.0.tar.gz (681 kB)\n",
            "\u001b[2K     \u001b[90m━━━━━━━━━━━━━━━━━━━━━━━━━━━━━━━━━━━━━━\u001b[0m \u001b[32m681.2/681.2 kB\u001b[0m \u001b[31m38.1 MB/s\u001b[0m eta \u001b[36m0:00:00\u001b[0m\n",
            "\u001b[?25h  Preparing metadata (setup.py) ... \u001b[?25l\u001b[?25hdone\n",
            "Requirement already satisfied: PyYAML in /usr/local/lib/python3.10/dist-packages (from pyngrok) (6.0)\n",
            "Building wheels for collected packages: pyngrok\n",
            "  Building wheel for pyngrok (setup.py) ... \u001b[?25l\u001b[?25hdone\n",
            "  Created wheel for pyngrok: filename=pyngrok-6.0.0-py3-none-any.whl size=19879 sha256=a577698bad675ac37029fcc62ddf0b180e28bd7cd1a8b9def3fd56638aa58e45\n",
            "  Stored in directory: /root/.cache/pip/wheels/5c/42/78/0c3d438d7f5730451a25f7ac6cbf4391759d22a67576ed7c2c\n",
            "Successfully built pyngrok\n",
            "Installing collected packages: pyngrok\n",
            "Successfully installed pyngrok-6.0.0\n"
          ]
        }
      ]
    },
    {
      "cell_type": "markdown",
      "source": [
        "# Starting a ASGI server using FasAPI and Uvicorn"
      ],
      "metadata": {
        "id": "EwSzBVAtFgQX"
      }
    },
    {
      "cell_type": "code",
      "source": [
        "from fastapi import FastAPI, Request\n",
        "from fastapi.middleware.cors import CORSMiddleware\n",
        "import nest_asyncio\n",
        "from pyngrok import ngrok\n",
        "from typing import Dict\n",
        "from pydantic import BaseModel\n",
        "import uvicorn\n",
        "import numpy as np\n",
        "import pickle\n",
        "import pandas as pd\n",
        "import json"
      ],
      "metadata": {
        "colab": {
          "base_uri": "https://localhost:8080/"
        },
        "id": "ikIHh14QFhaj",
        "outputId": "350dab3a-7262-4161-c155-92c87d6d542a"
      },
      "execution_count": 11,
      "outputs": [
        {
          "output_type": "stream",
          "name": "stderr",
          "text": [
            "<ipython-input-11-9b01ee4fc2eb>:3: RuntimeWarning: coroutine 'Server.serve' was never awaited\n",
            "  import nest_asyncio\n",
            "RuntimeWarning: Enable tracemalloc to get the object allocation traceback\n"
          ]
        }
      ]
    },
    {
      "cell_type": "code",
      "source": [
        "app = FastAPI()\n",
        "\n",
        "app.add_middleware(\n",
        "    CORSMiddleware,\n",
        "    allow_origins=['*'],\n",
        "    allow_credentials=True,\n",
        "    allow_methods=['*'],\n",
        "    allow_headers=['*'],\n",
        ")\n",
        "\n",
        "\n",
        "@app.get(\"/\")\n",
        "async def root():\n",
        "  return {\"message\": \"Built with FastAPI\"}"
      ],
      "metadata": {
        "id": "MYuDcVftGKcn"
      },
      "execution_count": 12,
      "outputs": []
    },
    {
      "cell_type": "code",
      "source": [
        "ngrok_tunnel = ngrok.connect(8000)\n",
        "print('Public URL:', ngrok_tunnel.public_url)\n",
        "nest_asyncio.apply()\n",
        "uvicorn.run(app, port=8000)"
      ],
      "metadata": {
        "id": "mb9YrkrZHbUO",
        "outputId": "4100a652-e4d1-4f3d-86b7-3e8b19c7a80a",
        "colab": {
          "base_uri": "https://localhost:8080/"
        }
      },
      "execution_count": 13,
      "outputs": [
        {
          "output_type": "stream",
          "name": "stdout",
          "text": []
        },
        {
          "output_type": "stream",
          "name": "stderr",
          "text": [
            "WARNING:pyngrok.process.ngrok:t=2023-05-01T11:46:13+0000 lvl=warn msg=\"ngrok config file found at legacy location, move to XDG location\" xdg_path=/root/.config/ngrok/ngrok.yml legacy_path=/root/.ngrok2/ngrok.yml\n"
          ]
        },
        {
          "output_type": "stream",
          "name": "stdout",
          "text": [
            "Public URL: https://cdeb-35-221-18-35.ngrok.io\n"
          ]
        },
        {
          "output_type": "stream",
          "name": "stderr",
          "text": [
            "INFO:     Started server process [776]\n",
            "INFO:     Waiting for application startup.\n",
            "INFO:     Application startup complete.\n",
            "INFO:     Uvicorn running on http://127.0.0.1:8000 (Press CTRL+C to quit)\n"
          ]
        },
        {
          "output_type": "stream",
          "name": "stdout",
          "text": [
            "INFO:     36.255.234.150:0 - \"GET / HTTP/1.1\" 200 OK\n",
            "INFO:     36.255.234.150:0 - \"GET /favicon.ico HTTP/1.1\" 404 Not Found\n"
          ]
        },
        {
          "output_type": "stream",
          "name": "stderr",
          "text": [
            "INFO:     Shutting down\n",
            "INFO:     Waiting for application shutdown.\n",
            "INFO:     Application shutdown complete.\n",
            "INFO:     Finished server process [776]\n"
          ]
        }
      ]
    },
    {
      "cell_type": "markdown",
      "source": [
        "# Building classification model "
      ],
      "metadata": {
        "id": "ClE6brHKJDca"
      }
    },
    {
      "cell_type": "code",
      "source": [
        "import pandas as pd\n",
        "import numpy as np\n",
        "from sklearn.model_selection import train_test_split\n",
        "from sklearn.neighbors import KNeighborsClassifier\n",
        "import joblib, pickle\n",
        "import os\n",
        "import yaml\n",
        "\n",
        "# Folder to load config file\n",
        "CONFIG_PATH = \".\"\n",
        "\n",
        "# Function to load yaml configuration file\n",
        "def load_config(config_name):\n",
        "    \"\"\"[The function takes the yaml config file as input and loads the config]\n",
        "    Args:\n",
        "        config name ([yaml]): [The function takes yaml config as input]\n",
        "    Returns:\n",
        "        [string]: [Returns the config]\n",
        "    \"\"\"\n",
        "    with open(os.path.join(CONFIG_PATH, config_name)) as file:\n",
        "        config = yaml.safe_load(file)\n",
        "    return config\n",
        "\n",
        "config = load_config(\"config.yaml\")"
      ],
      "metadata": {
        "id": "e4d2cqiOJIwG"
      },
      "execution_count": 16,
      "outputs": []
    },
    {
      "cell_type": "code",
      "source": [
        "#path to the dataset\n",
        "filename = \"./breast-cancer-wisconsin.csv\"\n",
        "#load data\n",
        "data = pd.read_csv(filename)\n",
        "#replace '?' with -99999\n",
        "data = data.replace('?', -99999)\n",
        "# drop id column\n",
        "data = data.drop(config['drop_columns'], axis=1)\n",
        "\n",
        "# Define X (independent variables) and y (target variable)\n",
        "X = np.array(data.drop(config[\"target_name\"], 1))\n",
        "y = np.array(data[config['target_name']])\n",
        "\n",
        "X_train, X_test, y_train, y_test = train_test_split(\n",
        "    X, y, test_size=config[\"test_size\"], random_state=config[\"random_state\"]\n",
        ")"
      ],
      "metadata": {
        "id": "oLn3T_SGMj4K",
        "outputId": "83fee187-688b-4461-95b0-2cec0bbcb7fd",
        "colab": {
          "base_uri": "https://localhost:8080/"
        }
      },
      "execution_count": 17,
      "outputs": [
        {
          "output_type": "stream",
          "name": "stderr",
          "text": [
            "<ipython-input-17-e873385a12f4>:11: FutureWarning: In a future version of pandas all arguments of DataFrame.drop except for the argument 'labels' will be keyword-only.\n",
            "  X = np.array(data.drop(config[\"target_name\"], 1))\n"
          ]
        }
      ]
    },
    {
      "cell_type": "code",
      "source": [
        "# call our classifier and fit to our data\n",
        "classifier = KNeighborsClassifier(\n",
        "    n_neighbors=config[\"n_neighbors\"],\n",
        "    weights=config[\"weights\"],\n",
        "    algorithm=config[\"algorithm\"],\n",
        "    leaf_size=config[\"leaf_size\"],\n",
        "    p=config[\"p\"],\n",
        "    metric=config[\"metric\"],\n",
        "    n_jobs=config[\"n_jobs\"],\n",
        ")"
      ],
      "metadata": {
        "id": "Rc7DshXGMs6z"
      },
      "execution_count": 18,
      "outputs": []
    },
    {
      "cell_type": "code",
      "source": [
        "# training the classifier\n",
        "classifier.fit(X_train, y_train)\n",
        "\n",
        "# test our classifier\n",
        "result = classifier.score(X_test, y_test)\n",
        "print(\"Accuracy score is. {:.1f}\".format(result))\n",
        "\n",
        "# saving model to disk\n",
        "pickle.dump(classifier, open('KNN_model.pkl', 'wb'))"
      ],
      "metadata": {
        "id": "h7BrIVcOPwMC",
        "outputId": "9e85599a-26ef-4a2f-a183-55fc02a922b0",
        "colab": {
          "base_uri": "https://localhost:8080/"
        }
      },
      "execution_count": 19,
      "outputs": [
        {
          "output_type": "stream",
          "name": "stdout",
          "text": [
            "Accuracy score is. 0.9\n"
          ]
        }
      ]
    },
    {
      "cell_type": "markdown",
      "source": [
        "# Building API using FastAPI"
      ],
      "metadata": {
        "id": "nyBAoPpjQ-rl"
      }
    },
    {
      "cell_type": "code",
      "source": [
        "# Load the model\n",
        "model = pickle.load(open('KNN_model.pkl', 'rb'))"
      ],
      "metadata": {
        "id": "OyWYRxVLQ1mm"
      },
      "execution_count": 20,
      "outputs": []
    },
    {
      "cell_type": "code",
      "source": [
        "@app.post('/predict')\n",
        "def pred(body: dict):\n",
        "    \"\"\"[summary]\n",
        "    Args:\n",
        "        body (dict): [The pred method takes Response as input which is in Json format and returns the predicted value from the saved model.]\n",
        "    Returns:\n",
        "        [Json]: [The pred function returns the predicted value]\n",
        "    \"\"\"\n",
        "    # Get the data from the POST request.\n",
        "    data = body\n",
        "    varList = []\n",
        "    for val in data.values():\n",
        "      varList.append(val)\n",
        "    # Make prediction from the saved model\n",
        "    prediction = model.predict([varList])\n",
        "    # Extract the value\n",
        "    output = prediction[0]\n",
        "    # return the output in the json format\n",
        "    return {'The prediction is ': output}"
      ],
      "metadata": {
        "id": "YvUckwsrRZOJ"
      },
      "execution_count": 21,
      "outputs": []
    },
    {
      "cell_type": "code",
      "source": [
        "ngrok_tunnel = ngrok.connect(8000)\n",
        "print('Public URL:', ngrok_tunnel.public_url)\n",
        "nest_asyncio.apply()\n",
        "uvicorn.run(app, port=8000)"
      ],
      "metadata": {
        "id": "PCP1r8sYSxV5",
        "outputId": "3cd7532d-20aa-46e6-8e93-1e5298ea85a5",
        "colab": {
          "base_uri": "https://localhost:8080/"
        }
      },
      "execution_count": null,
      "outputs": [
        {
          "output_type": "stream",
          "name": "stderr",
          "text": [
            "WARNING:pyngrok.process.ngrok:t=2023-05-01T13:44:54+0000 lvl=warn msg=\"ngrok config file found at legacy location, move to XDG location\" xdg_path=/root/.config/ngrok/ngrok.yml legacy_path=/root/.ngrok2/ngrok.yml\n"
          ]
        },
        {
          "output_type": "stream",
          "name": "stdout",
          "text": [
            "Public URL: https://fa22-35-221-18-35.ngrok.io\n"
          ]
        },
        {
          "output_type": "stream",
          "name": "stderr",
          "text": [
            "INFO:     Started server process [776]\n",
            "INFO:     Waiting for application startup.\n",
            "INFO:     Application startup complete.\n",
            "INFO:     Uvicorn running on http://127.0.0.1:8000 (Press CTRL+C to quit)\n"
          ]
        },
        {
          "output_type": "stream",
          "name": "stdout",
          "text": [
            "INFO:     54.86.50.139:0 - \"POST /predict HTTP/1.1\" 200 OK\n",
            "INFO:     36.255.234.150:0 - \"POST /predict HTTP/1.1\" 200 OK\n",
            "INFO:     36.255.234.150:0 - \"POST /predict HTTP/1.1\" 200 OK\n",
            "INFO:     36.255.234.150:0 - \"POST /predict HTTP/1.1\" 200 OK\n",
            "INFO:     36.255.234.150:0 - \"POST /predict HTTP/1.1\" 200 OK\n",
            "INFO:     36.255.234.150:0 - \"POST /predict HTTP/1.1\" 200 OK\n",
            "INFO:     36.255.234.150:0 - \"POST /predict HTTP/1.1\" 200 OK\n",
            "INFO:     36.255.234.150:0 - \"POST /predict HTTP/1.1\" 200 OK\n",
            "INFO:     36.255.234.150:0 - \"POST /predict HTTP/1.1\" 200 OK\n",
            "INFO:     36.255.234.150:0 - \"POST /predict HTTP/1.1\" 200 OK\n",
            "INFO:     36.255.234.150:0 - \"POST /predict HTTP/1.1\" 200 OK\n",
            "INFO:     36.255.234.150:0 - \"POST /predict HTTP/1.1\" 200 OK\n",
            "INFO:     36.255.234.150:0 - \"POST /predict HTTP/1.1\" 200 OK\n",
            "INFO:     36.255.234.150:0 - \"POST /predict HTTP/1.1\" 200 OK\n",
            "INFO:     36.255.234.150:0 - \"POST /predict HTTP/1.1\" 200 OK\n",
            "INFO:     36.255.234.150:0 - \"POST /predict HTTP/1.1\" 200 OK\n",
            "INFO:     36.255.234.150:0 - \"POST /predict HTTP/1.1\" 200 OK\n",
            "INFO:     36.255.234.150:0 - \"POST /predict HTTP/1.1\" 200 OK\n",
            "INFO:     36.255.234.150:0 - \"POST /predict HTTP/1.1\" 200 OK\n",
            "INFO:     36.255.234.150:0 - \"POST /predict HTTP/1.1\" 200 OK\n",
            "INFO:     36.255.234.150:0 - \"POST /predict HTTP/1.1\" 200 OK\n",
            "INFO:     36.255.234.150:0 - \"POST /predict HTTP/1.1\" 200 OK\n",
            "INFO:     36.255.234.150:0 - \"POST /predict HTTP/1.1\" 200 OK\n"
          ]
        }
      ]
    },
    {
      "cell_type": "markdown",
      "source": [
        "# Using PostMan to test the API"
      ],
      "metadata": {
        "id": "LxUiV9kNTXLR"
      }
    },
    {
      "cell_type": "code",
      "source": [
        "# postman client\n",
        "# select post https://f071-35-221-18-35.ngrok.io/predict\n",
        "\n",
        "# select Body->raw->json, paste below req dict and send a post request \n",
        "request_pred = {\n",
        "  \"radius_mean\": 13.54,\n",
        "  \"texture_mean\": 14.36,\n",
        "  \"perimeter_mean\": 87.46,\n",
        "  \"area_mean\": 566.3,\n",
        "  \"smoothness_mean\": 0.09779,\n",
        "  \"compactness_mean\": 0.08129,\n",
        "  \"concavity_mean\": 0.06664,\n",
        "  \"concave points_mean\": 0.04781,\n",
        "  \"symmetry_mean\": 0.1885,\n",
        "  \"fractal_dimension_mean\": 0.05766,\n",
        "  \"radius_se\": 0.2699,\n",
        "  \"texture_se\": 0.7886,\n",
        "  \"perimeter_se\": 2.058,\n",
        "  \"area_se\": 23.56,\n",
        "  \"smoothness_se\": 0.008462,\n",
        "  \"compactness_se\": 0.0146,\n",
        "  \"concavity_se\": 0.02387,\n",
        "  \"concave points_se\": 0.01315,\n",
        "  \"symmetry_se\": 0.0198,\n",
        "  \"fractal_dimension_se\": 0.0023,\n",
        "  \"radius_worst\": 15.11,\n",
        "  \"texture_worst\": 19.26,\n",
        "  \"perimeter_worst\": 99.7,\n",
        "  \"area_worst\": 711.2,\n",
        "  \"smoothness_worst\": 0.144,\n",
        "  \"compactness_worst\": 0.1773,\n",
        "  \"concavity_worst\": 0.239,\n",
        "  \"concave points_worst\": 0.1288,\n",
        "  \"symmetry_worst\": 0.2977,\n",
        "  \"fractal_dimension_worst\": 0.07259\n",
        "}"
      ],
      "metadata": {
        "id": "fIArJs0XTbck"
      },
      "execution_count": 23,
      "outputs": []
    },
    {
      "cell_type": "markdown",
      "source": [
        "# Load test using Postman"
      ],
      "metadata": {
        "id": "VRBezLYnW51y"
      }
    },
    {
      "cell_type": "code",
      "source": [
        "!pip install locust"
      ],
      "metadata": {
        "id": "gXkwTQeFWzuC",
        "outputId": "54420f8b-08f7-4c17-ac29-a510799d2be4",
        "colab": {
          "base_uri": "https://localhost:8080/"
        }
      },
      "execution_count": 24,
      "outputs": [
        {
          "output_type": "stream",
          "name": "stdout",
          "text": [
            "Looking in indexes: https://pypi.org/simple, https://us-python.pkg.dev/colab-wheels/public/simple/\n",
            "Collecting locust\n",
            "  Downloading locust-2.15.1-py3-none-any.whl (826 kB)\n",
            "\u001b[2K     \u001b[90m━━━━━━━━━━━━━━━━━━━━━━━━━━━━━━━━━━━━━━\u001b[0m \u001b[32m826.1/826.1 kB\u001b[0m \u001b[31m36.5 MB/s\u001b[0m eta \u001b[36m0:00:00\u001b[0m\n",
            "\u001b[?25hRequirement already satisfied: msgpack>=0.6.2 in /usr/local/lib/python3.10/dist-packages (from locust) (1.0.5)\n",
            "Requirement already satisfied: psutil>=5.6.7 in /usr/local/lib/python3.10/dist-packages (from locust) (5.9.5)\n",
            "Collecting Flask-BasicAuth>=0.2.0\n",
            "  Downloading Flask-BasicAuth-0.2.0.tar.gz (16 kB)\n",
            "  Preparing metadata (setup.py) ... \u001b[?25l\u001b[?25hdone\n",
            "Collecting roundrobin>=0.0.2\n",
            "  Downloading roundrobin-0.0.4.tar.gz (3.4 kB)\n",
            "  Preparing metadata (setup.py) ... \u001b[?25l\u001b[?25hdone\n",
            "Requirement already satisfied: typing-extensions>=3.7.4.3 in /usr/local/lib/python3.10/dist-packages (from locust) (4.5.0)\n",
            "Collecting ConfigArgParse>=1.0\n",
            "  Downloading ConfigArgParse-1.5.3-py3-none-any.whl (20 kB)\n",
            "Collecting Flask-Cors>=3.0.10\n",
            "  Downloading Flask_Cors-3.0.10-py2.py3-none-any.whl (14 kB)\n",
            "Requirement already satisfied: requests>=2.23.0 in /usr/local/lib/python3.10/dist-packages (from locust) (2.27.1)\n",
            "Collecting gevent>=20.12.1\n",
            "  Downloading gevent-22.10.2-cp310-cp310-manylinux_2_17_x86_64.manylinux2014_x86_64.whl (6.4 MB)\n",
            "\u001b[2K     \u001b[90m━━━━━━━━━━━━━━━━━━━━━━━━━━━━━━━━━━━━━━━━\u001b[0m \u001b[32m6.4/6.4 MB\u001b[0m \u001b[31m59.8 MB/s\u001b[0m eta \u001b[36m0:00:00\u001b[0m\n",
            "\u001b[?25hRequirement already satisfied: Werkzeug>=2.0.0 in /usr/local/lib/python3.10/dist-packages (from locust) (2.3.0)\n",
            "Collecting geventhttpclient>=2.0.2\n",
            "  Downloading geventhttpclient-2.0.9-cp310-cp310-manylinux_2_5_x86_64.manylinux1_x86_64.manylinux_2_17_x86_64.manylinux2014_x86_64.whl (103 kB)\n",
            "\u001b[2K     \u001b[90m━━━━━━━━━━━━━━━━━━━━━━━━━━━━━━━━━━━━━━\u001b[0m \u001b[32m103.6/103.6 kB\u001b[0m \u001b[31m14.4 MB/s\u001b[0m eta \u001b[36m0:00:00\u001b[0m\n",
            "\u001b[?25hRequirement already satisfied: pyzmq!=23.0.0,>=22.2.1 in /usr/local/lib/python3.10/dist-packages (from locust) (23.2.1)\n",
            "Requirement already satisfied: flask>=2.0.0 in /usr/local/lib/python3.10/dist-packages (from locust) (2.2.4)\n",
            "Requirement already satisfied: click>=8.0 in /usr/local/lib/python3.10/dist-packages (from flask>=2.0.0->locust) (8.1.3)\n",
            "Requirement already satisfied: Jinja2>=3.0 in /usr/local/lib/python3.10/dist-packages (from flask>=2.0.0->locust) (3.1.2)\n",
            "Requirement already satisfied: itsdangerous>=2.0 in /usr/local/lib/python3.10/dist-packages (from flask>=2.0.0->locust) (2.1.2)\n",
            "Requirement already satisfied: Six in /usr/local/lib/python3.10/dist-packages (from Flask-Cors>=3.0.10->locust) (1.16.0)\n",
            "Requirement already satisfied: greenlet>=2.0.0 in /usr/local/lib/python3.10/dist-packages (from gevent>=20.12.1->locust) (2.0.2)\n",
            "Collecting zope.interface\n",
            "  Downloading zope.interface-6.0-cp310-cp310-manylinux_2_5_x86_64.manylinux1_x86_64.manylinux_2_17_x86_64.manylinux2014_x86_64.whl (246 kB)\n",
            "\u001b[2K     \u001b[90m━━━━━━━━━━━━━━━━━━━━━━━━━━━━━━━━━━━━━━\u001b[0m \u001b[32m247.0/247.0 kB\u001b[0m \u001b[31m30.5 MB/s\u001b[0m eta \u001b[36m0:00:00\u001b[0m\n",
            "\u001b[?25hRequirement already satisfied: setuptools in /usr/local/lib/python3.10/dist-packages (from gevent>=20.12.1->locust) (67.7.2)\n",
            "Collecting zope.event\n",
            "  Downloading zope.event-4.6-py2.py3-none-any.whl (6.8 kB)\n",
            "Requirement already satisfied: certifi in /usr/local/lib/python3.10/dist-packages (from geventhttpclient>=2.0.2->locust) (2022.12.7)\n",
            "Collecting brotli\n",
            "  Downloading Brotli-1.0.9-cp310-cp310-manylinux_2_5_x86_64.manylinux1_x86_64.manylinux_2_12_x86_64.manylinux2010_x86_64.whl (2.7 MB)\n",
            "\u001b[2K     \u001b[90m━━━━━━━━━━━━━━━━━━━━━━━━━━━━━━━━━━━━━━━━\u001b[0m \u001b[32m2.7/2.7 MB\u001b[0m \u001b[31m86.4 MB/s\u001b[0m eta \u001b[36m0:00:00\u001b[0m\n",
            "\u001b[?25hRequirement already satisfied: charset-normalizer~=2.0.0 in /usr/local/lib/python3.10/dist-packages (from requests>=2.23.0->locust) (2.0.12)\n",
            "Requirement already satisfied: urllib3<1.27,>=1.21.1 in /usr/local/lib/python3.10/dist-packages (from requests>=2.23.0->locust) (1.26.15)\n",
            "Requirement already satisfied: idna<4,>=2.5 in /usr/local/lib/python3.10/dist-packages (from requests>=2.23.0->locust) (3.4)\n",
            "Requirement already satisfied: MarkupSafe>=2.1.1 in /usr/local/lib/python3.10/dist-packages (from Werkzeug>=2.0.0->locust) (2.1.2)\n",
            "Building wheels for collected packages: Flask-BasicAuth, roundrobin\n",
            "  Building wheel for Flask-BasicAuth (setup.py) ... \u001b[?25l\u001b[?25hdone\n",
            "  Created wheel for Flask-BasicAuth: filename=Flask_BasicAuth-0.2.0-py3-none-any.whl size=4241 sha256=9644b1656e68354fc8b55c5fc7bad009c8ccf335f677e50b43a5c240bea44dd9\n",
            "  Stored in directory: /root/.cache/pip/wheels/2c/96/a5/54f6f7fa880f487e2f6c52cc9943d3299272a956cbd5af3b8c\n",
            "  Building wheel for roundrobin (setup.py) ... \u001b[?25l\u001b[?25hdone\n",
            "  Created wheel for roundrobin: filename=roundrobin-0.0.4-py3-none-any.whl size=4033 sha256=3336f9a1e7ac3cd643fbda4aa7ed3063c0e9a15e0cfeced4934b9fd6b1cc2818\n",
            "  Stored in directory: /root/.cache/pip/wheels/c2/e8/10/b6204cb43ae923e4f51bb5c5aee3a143ca632b3d8c0b64c078\n",
            "Successfully built Flask-BasicAuth roundrobin\n",
            "Installing collected packages: roundrobin, brotli, zope.interface, zope.event, ConfigArgParse, gevent, geventhttpclient, Flask-Cors, Flask-BasicAuth, locust\n",
            "Successfully installed ConfigArgParse-1.5.3 Flask-BasicAuth-0.2.0 Flask-Cors-3.0.10 brotli-1.0.9 gevent-22.10.2 geventhttpclient-2.0.9 locust-2.15.1 roundrobin-0.0.4 zope.event-4.6 zope.interface-6.0\n"
          ]
        }
      ]
    },
    {
      "cell_type": "code",
      "source": [
        "#run locust -f perf.py from local "
      ],
      "metadata": {
        "id": "skfiHpWmbzbi"
      },
      "execution_count": 28,
      "outputs": []
    },
    {
      "cell_type": "code",
      "source": [],
      "metadata": {
        "id": "FpnfsKaVjthW"
      },
      "execution_count": null,
      "outputs": []
    }
  ]
}